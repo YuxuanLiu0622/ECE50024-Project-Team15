{
  "nbformat": 4,
  "nbformat_minor": 0,
  "metadata": {
    "colab": {
      "provenance": [],
      "include_colab_link": true
    },
    "kernelspec": {
      "name": "python3",
      "display_name": "Python 3"
    },
    "language_info": {
      "name": "python"
    }
  },
  "cells": [
    {
      "cell_type": "markdown",
      "metadata": {
        "id": "view-in-github",
        "colab_type": "text"
      },
      "source": [
        "<a href=\"https://colab.research.google.com/github/YuxuanLiu0622/ECE50024-Project-Team15/blob/main/checkpoint3_baseline_upload.ipynb\" target=\"_parent\"><img src=\"https://colab.research.google.com/assets/colab-badge.svg\" alt=\"Open In Colab\"/></a>"
      ]
    },
    {
      "cell_type": "markdown",
      "source": [
        "# Checkpoint 3: Reimplementation of Learning to Reweight Examples for Robust Deep Learning on Toy Problems (FashionMNIST) Part 1: standard CNN without reweighting\n",
        "\n",
        "**Team15: Hyun Soo Park, Andres Martinez, Heesoo Kim, Mingyu Kim, Yuxuan Liu**"
      ],
      "metadata": {
        "id": "XkFEy8yg2ODd"
      }
    },
    {
      "cell_type": "code",
      "execution_count": null,
      "metadata": {
        "id": "NpcNWcJdcH2A",
        "colab": {
          "base_uri": "https://localhost:8080/"
        },
        "outputId": "65df0a74-166a-4b67-b316-8816f523807a"
      },
      "outputs": [
        {
          "output_type": "stream",
          "name": "stdout",
          "text": [
            "Requirement already satisfied: tqdm in /usr/local/lib/python3.10/dist-packages (4.66.2)\n",
            "Requirement already satisfied: higher in /usr/local/lib/python3.10/dist-packages (0.2.1)\n",
            "Requirement already satisfied: torch in /usr/local/lib/python3.10/dist-packages (from higher) (2.1.0+cu121)\n",
            "Requirement already satisfied: filelock in /usr/local/lib/python3.10/dist-packages (from torch->higher) (3.13.1)\n",
            "Requirement already satisfied: typing-extensions in /usr/local/lib/python3.10/dist-packages (from torch->higher) (4.10.0)\n",
            "Requirement already satisfied: sympy in /usr/local/lib/python3.10/dist-packages (from torch->higher) (1.12)\n",
            "Requirement already satisfied: networkx in /usr/local/lib/python3.10/dist-packages (from torch->higher) (3.2.1)\n",
            "Requirement already satisfied: jinja2 in /usr/local/lib/python3.10/dist-packages (from torch->higher) (3.1.3)\n",
            "Requirement already satisfied: fsspec in /usr/local/lib/python3.10/dist-packages (from torch->higher) (2023.6.0)\n",
            "Requirement already satisfied: triton==2.1.0 in /usr/local/lib/python3.10/dist-packages (from torch->higher) (2.1.0)\n",
            "Requirement already satisfied: MarkupSafe>=2.0 in /usr/local/lib/python3.10/dist-packages (from jinja2->torch->higher) (2.1.5)\n",
            "Requirement already satisfied: mpmath>=0.19 in /usr/local/lib/python3.10/dist-packages (from sympy->torch->higher) (1.3.0)\n"
          ]
        }
      ],
      "source": [
        "!pip install tqdm\n",
        "!pip install higher\n",
        "import time\n",
        "from typing import List, Dict\n",
        "import random\n",
        "import os\n",
        "import torch\n",
        "import torch.nn as nn\n",
        "import torch.optim as optim\n",
        "import torch.nn.functional as F\n",
        "from torch.autograd import Variable\n",
        "import torchvision\n",
        "import torchvision.models as models\n",
        "import torchvision.transforms as transforms\n",
        "import numpy as np\n",
        "import matplotlib.pyplot as plt\n",
        "from torch.utils.data import Dataset\n",
        "from torch.utils.data import DataLoader\n",
        "from copy import deepcopy\n",
        "from tqdm import tqdm\n",
        "import IPython\n",
        "import higher"
      ]
    },
    {
      "cell_type": "code",
      "execution_count": null,
      "metadata": {
        "id": "sRexP1Psd3uY"
      },
      "outputs": [],
      "source": [
        "device = torch.device('cuda' if torch.cuda.is_available() else 'cpu')"
      ]
    },
    {
      "cell_type": "code",
      "execution_count": null,
      "metadata": {
        "id": "NBDXgPJ_gojG"
      },
      "outputs": [],
      "source": [
        "def set_seed(seed: int = 0) -> None:\n",
        "    torch.backends.cudnn.deterministic = True\n",
        "    torch.backends.cudnn.benchmark = False\n",
        "    torch.manual_seed(seed)\n",
        "    torch.cuda.manual_seed_all(seed)\n",
        "    np.random.seed(seed)\n",
        "    random.seed(seed)\n",
        "set_seed(0)"
      ]
    },
    {
      "cell_type": "markdown",
      "source": [
        "\n",
        "We build a standard CNN consisting of four layers with increasing channels, followed by ReLU and max pooling for binary classfication."
      ],
      "metadata": {
        "id": "fckJe6_AUx10"
      }
    },
    {
      "cell_type": "code",
      "execution_count": null,
      "metadata": {
        "id": "ZG6INJz2szdb"
      },
      "outputs": [],
      "source": [
        "class CNN(nn.Module):\n",
        "\n",
        "  def __init__(self):\n",
        "    super(CNN, self).__init__()\n",
        "\n",
        "    self.conv = nn.Conv2d(1, 8, kernel_size=3)\n",
        "    self.conv2 = nn.Conv2d(8, 16, kernel_size=3)\n",
        "    self.conv3 = nn.Conv2d(16,32,kernel_size=3)\n",
        "    self.conv4 = nn.Conv2d(32,32,kernel_size=3)\n",
        "    self.fc = nn.Linear(512, 1)\n",
        "\n",
        "  def forward(self, x):\n",
        "    x = self.conv(x)\n",
        "    x = F.relu(x)\n",
        "    x = self.conv2(x)\n",
        "    x = F.relu(x)\n",
        "    x = F.relu(F.max_pool2d(x,2))\n",
        "    x = self.conv3(x)\n",
        "    x = F.relu(x)\n",
        "    x = self.conv4(x)\n",
        "    x = F.relu(x)\n",
        "    x = F.relu(F.max_pool2d(x,2))\n",
        "    x = x.view(x.size(0), -1)\n",
        "    x = self.fc(x)\n",
        "\n",
        "    return x"
      ]
    },
    {
      "cell_type": "code",
      "source": [
        "transform = torchvision.transforms.Compose([torchvision.transforms.ToTensor(),\n",
        "                      torchvision.transforms.Normalize((0.1307,),(0.3081,))])"
      ],
      "metadata": {
        "id": "qm4f9U5DtRRb"
      },
      "execution_count": null,
      "outputs": []
    },
    {
      "cell_type": "markdown",
      "source": [
        "We target the classification of \"sneakers\" (class 7) and \"ankle boots\" (class 9) in FashionMNist dataset."
      ],
      "metadata": {
        "id": "gBOV_x4mVXkl"
      }
    },
    {
      "cell_type": "code",
      "source": [
        "train_fmnist = torchvision.datasets.FashionMNIST(root=\"data\", train=True, download=True,transform=transform)\n",
        "test_fmnist = torchvision.datasets.FashionMNIST(root=\"data\", train=False, download=True,transform=transform)\n",
        "val_fmnist = torchvision.datasets.FashionMNIST(root=\"data\", train=False, download=True,transform=transform)"
      ],
      "metadata": {
        "id": "M9_rLupGtX4y"
      },
      "execution_count": null,
      "outputs": []
    },
    {
      "cell_type": "code",
      "source": [
        "def split_dataset(class1: int, class2: int, imbalance_ratio: float, n_samples: int, train_dataset: torchvision.datasets) -> torch.utils.data.Dataset:\n",
        "    new_data = train_dataset\n",
        "    n_class1 = int(imbalance_ratio*n_samples)\n",
        "    n_class2 = n_samples - n_class1\n",
        "    class1_indices = (train_dataset.targets == class1).nonzero().squeeze()\n",
        "    class2_indices = (train_dataset.targets == class2).nonzero().squeeze()\n",
        "\n",
        "    selected_class1_indices = class1_indices[torch.randperm(class1_indices.size(0))[:n_class1]]\n",
        "    selected_class2_indices = class2_indices[torch.randperm(class2_indices.size(0))[:n_class2]]\n",
        "\n",
        "    new_data.data = torch.cat((train_dataset.data[selected_class1_indices], train_dataset.data[selected_class2_indices]))\n",
        "\n",
        "    new_data.targets = torch.cat((torch.zeros(selected_class1_indices.size()), torch.ones(selected_class2_indices.size())))\n",
        "\n",
        "    return new_data"
      ],
      "metadata": {
        "id": "CqfHSTFwtrfB"
      },
      "execution_count": null,
      "outputs": []
    },
    {
      "cell_type": "markdown",
      "source": [
        "The training set is given an imbalanced proportion of 99.5%. The validation and testing set is equally distributed."
      ],
      "metadata": {
        "id": "sQs9-1WNVGBH"
      }
    },
    {
      "cell_type": "code",
      "source": [
        "train_set = split_dataset(7,9,0.9,5000,train_fmnist)\n",
        "test_set = split_dataset(7,9,0.5,100,test_fmnist)\n",
        "val_set = split_dataset(7,9,0.5,10,val_fmnist)"
      ],
      "metadata": {
        "id": "l3Rk42FaSSqa"
      },
      "execution_count": null,
      "outputs": []
    },
    {
      "cell_type": "code",
      "source": [
        "hyperparameters = {\n",
        "    'lr' : 1e-3,\n",
        "    'momentum' : 0.9,\n",
        "    'batch_size' : 128,\n",
        "    'epoch' : 5000,\n",
        "}"
      ],
      "metadata": {
        "id": "UXl1HzKltt7e"
      },
      "execution_count": null,
      "outputs": []
    },
    {
      "cell_type": "code",
      "source": [
        "train_loader = DataLoader(dataset=train_set, batch_size = hyperparameters['batch_size'], shuffle=True)\n",
        "test_loader = DataLoader(dataset=test_set, batch_size=hyperparameters['batch_size'], shuffle=False)\n",
        "val_loader = DataLoader(dataset=val_set, batch_size=hyperparameters['batch_size'], shuffle=False)"
      ],
      "metadata": {
        "id": "vmso_cNXsltR"
      },
      "execution_count": null,
      "outputs": []
    },
    {
      "cell_type": "code",
      "source": [
        "batch_idx, (images, targets) = next(enumerate(train_loader)) #fix!!!!!\n",
        "fig, ax = plt.subplots(3,3,figsize = (9,9))\n",
        "for i in range(3):\n",
        "    for j in range(3):\n",
        "        image = images[i*3+j].permute(1,2,0)\n",
        "        ax[i,j].imshow(image)\n",
        "        ax[i,j].set_axis_off()"
      ],
      "metadata": {
        "id": "UP3bUdaA1KLI",
        "colab": {
          "base_uri": "https://localhost:8080/",
          "height": 730
        },
        "outputId": "e7a63801-64fa-44bc-ef12-e045606d1694"
      },
      "execution_count": null,
      "outputs": [
        {
          "output_type": "display_data",
          "data": {
            "text/plain": [
              "<Figure size 900x900 with 9 Axes>"
            ],
            "image/png": "[encoded data removed]"
          },
          "metadata": {}
        }
      ]
    },
    {
      "cell_type": "code",
      "source": [
        "batch_idx, (images, targets) = next(enumerate(test_loader)) #fix!!!!!\n",
        "fig, ax = plt.subplots(3,3,figsize = (9,9))\n",
        "for i in range(3):\n",
        "    for j in range(3):\n",
        "        image = images[i*3+j].permute(1,2,0)\n",
        "        ax[i,j].imshow(image)\n",
        "        ax[i,j].set_axis_off()"
      ],
      "metadata": {
        "id": "HUl1IPwp1agp",
        "colab": {
          "base_uri": "https://localhost:8080/",
          "height": 730
        },
        "outputId": "8c3701bf-f019-414c-8803-c307880a7aff"
      },
      "execution_count": null,
      "outputs": [
        {
          "output_type": "display_data",
          "data": {
            "text/plain": [
              "<Figure size 900x900 with 9 Axes>"
            ],
            "image/png": "[encoded data removed]"
          },
          "metadata": {}
        }
      ]
    },
    {
      "cell_type": "markdown",
      "source": [
        "## Base model using CNN"
      ],
      "metadata": {
        "id": "zGV34exMHEWX"
      }
    },
    {
      "cell_type": "code",
      "source": [
        "model = CNN().to(device)\n",
        "optimizer = optim.SGD((model).parameters(), lr=hyperparameters['lr'])\n",
        "running_loss = 0\n",
        "running_losses = []\n",
        "step = 500\n",
        "\n",
        "accuracy_log = []\n",
        "for i in tqdm(range(hyperparameters['epoch'])):\n",
        "  model.train()\n",
        "\n",
        "  image, labels = next(iter(train_loader))\n",
        "\n",
        "  image = image.to(device)\n",
        "  labels = labels.to(device)\n",
        "\n",
        "  y = model(image)\n",
        "  y = y.squeeze()\n",
        "  loss = F.binary_cross_entropy_with_logits(y, labels.float())\n",
        "\n",
        "  optimizer.zero_grad()\n",
        "  loss.backward()\n",
        "  optimizer.step()\n",
        "\n",
        "  running_loss += loss.item()\n",
        "  running_losses.append(running_loss / (i + 1))  # Average loss per batch\n",
        "\n",
        "\n",
        "  if i % step == 0:\n",
        "    model.eval()\n",
        "    accuracies = []  # To store accuracy of each example\n",
        "    with torch.no_grad():\n",
        "        for idx, (test_image, test_labels) in enumerate(test_loader):\n",
        "            test_image = test_image.to(device)\n",
        "            test_labels = test_labels.to(device)\n",
        "\n",
        "            output = model(test_image).squeeze()\n",
        "            pred = (torch.sigmoid(output) > 0.5).int()\n",
        "\n",
        "            # Calculate accuracy as a flat tensor for each example\n",
        "            batch_accuracy = (pred == test_labels.int()).float()\n",
        "            accuracies.append(batch_accuracy)\n",
        "\n",
        "        # Concatenate all batch accuracies to calculate overall accuracy\n",
        "        all_accuracies = torch.cat(accuracies, dim=0)\n",
        "        overall_accuracy = all_accuracies.mean().item()  # Convert to Python number for logging\n",
        "        print(overall_accuracy)\n",
        "\n",
        "    accuracy_log.append(np.array([i, overall_accuracy])[None])"
      ],
      "metadata": {
        "id": "SaGC9eUmHGxD",
        "colab": {
          "base_uri": "https://localhost:8080/"
        },
        "outputId": "c78ae449-20c4-4749-e036-f8e7e8b03918"
      },
      "execution_count": null,
      "outputs": [
        {
          "output_type": "stream",
          "name": "stderr",
          "text": [
            "  0%|          | 3/5000 [00:00<17:17,  4.81it/s]"
          ]
        },
        {
          "output_type": "stream",
          "name": "stdout",
          "text": [
            "0.2770000100135803\n"
          ]
        },
        {
          "output_type": "stream",
          "name": "stderr",
          "text": [
            " 10%|█         | 502/5000 [00:56<20:47,  3.61it/s]"
          ]
        },
        {
          "output_type": "stream",
          "name": "stdout",
          "text": [
            "0.5\n"
          ]
        },
        {
          "output_type": "stream",
          "name": "stderr",
          "text": [
            " 20%|██        | 1003/5000 [01:53<09:49,  6.78it/s]"
          ]
        },
        {
          "output_type": "stream",
          "name": "stdout",
          "text": [
            "0.5\n"
          ]
        },
        {
          "output_type": "stream",
          "name": "stderr",
          "text": [
            " 30%|███       | 1502/5000 [02:49<15:14,  3.82it/s]"
          ]
        },
        {
          "output_type": "stream",
          "name": "stdout",
          "text": [
            "0.5\n"
          ]
        },
        {
          "output_type": "stream",
          "name": "stderr",
          "text": [
            " 40%|████      | 2003/5000 [03:46<07:16,  6.87it/s]"
          ]
        },
        {
          "output_type": "stream",
          "name": "stdout",
          "text": [
            "0.5\n"
          ]
        },
        {
          "output_type": "stream",
          "name": "stderr",
          "text": [
            " 50%|█████     | 2502/5000 [04:43<11:21,  3.66it/s]"
          ]
        },
        {
          "output_type": "stream",
          "name": "stdout",
          "text": [
            "0.5\n"
          ]
        },
        {
          "output_type": "stream",
          "name": "stderr",
          "text": [
            " 60%|██████    | 3002/5000 [05:41<07:29,  4.45it/s]"
          ]
        },
        {
          "output_type": "stream",
          "name": "stdout",
          "text": [
            "0.5\n"
          ]
        },
        {
          "output_type": "stream",
          "name": "stderr",
          "text": [
            " 70%|███████   | 3503/5000 [06:38<05:53,  4.23it/s]"
          ]
        },
        {
          "output_type": "stream",
          "name": "stdout",
          "text": [
            "0.5\n"
          ]
        },
        {
          "output_type": "stream",
          "name": "stderr",
          "text": [
            " 80%|████████  | 4002/5000 [07:39<04:14,  3.92it/s]"
          ]
        },
        {
          "output_type": "stream",
          "name": "stdout",
          "text": [
            "0.5\n"
          ]
        },
        {
          "output_type": "stream",
          "name": "stderr",
          "text": [
            " 90%|█████████ | 4502/5000 [08:36<01:32,  5.36it/s]"
          ]
        },
        {
          "output_type": "stream",
          "name": "stdout",
          "text": [
            "0.5\n"
          ]
        },
        {
          "output_type": "stream",
          "name": "stderr",
          "text": [
            "100%|██████████| 5000/5000 [09:38<00:00,  8.65it/s]\n"
          ]
        }
      ]
    },
    {
      "cell_type": "code",
      "source": [
        "acc_log = np.concatenate(accuracy_log, axis=0)\n",
        "plt.plot(acc_log[:,0],acc_log[:,1])\n",
        "plt.title('0.995 split')\n",
        "plt.ylabel('Accuracy')\n",
        "plt.xlabel('Iteration')"
      ],
      "metadata": {
        "id": "mwREt_7ZtiqQ",
        "colab": {
          "base_uri": "https://localhost:8080/",
          "height": 490
        },
        "outputId": "8b22971c-0fd1-42f9-c086-1424dd07f4e2"
      },
      "execution_count": null,
      "outputs": [
        {
          "output_type": "execute_result",
          "data": {
            "text/plain": [
              "Text(0.5, 0, 'Iteration')"
            ]
          },
          "metadata": {},
          "execution_count": 44
        },
        {
          "output_type": "display_data",
          "data": {
            "text/plain": [
              "<Figure size 640x480 with 1 Axes>"
            ],
            "image/png": "[encoded data removed]"
          },
          "metadata": {}
        }
      ]
    }
  ]
}